{
 "cells": [
  {
   "cell_type": "code",
   "execution_count": null,
   "id": "f9ad2fc9",
   "metadata": {},
   "outputs": [],
   "source": [
    "# Install Dependencies\n",
    "!pip install --upgrade tensorflow\n",
    "!pip install matplotlib\n",
    "!pip install tensorflow-gpu\n",
    "\n",
    "# Local Dataset Path\n",
    "DATASET = \"C:\\\\Users\\\\tejas\\\\Documents\\\\COLLEGE\\\\SEMESTER 5\\\\EDI_DeepFake_ImageDetection\\\\dataset.zip\"\n",
    "\n",
    "# Extract Dataset with Progress Bar\n",
    "import zipfile\n",
    "from tqdm import tqdm  # Import tqdm for the progress bar\n",
    "\n",
    "# Replace \"/content/drive/MyDrive/deepfakeimgdetection/dataset.zip\" with the local path\n",
    "with zipfile.ZipFile(DATASET, 'r') as zip_ref:\n",
    "    # Get the total number of files in the zip archive for progress tracking\n",
    "    num_files = len(zip_ref.namelist())\n",
    "    \n",
    "    # Use tqdm to create a progress bar\n",
    "    with tqdm(total=num_files, desc='Extracting', unit=' files') as pbar:\n",
    "        for file in zip_ref.namelist():\n",
    "            zip_ref.extract(file, \"C:\\\\Users\\\\tejas\\\\Documents\\\\COLLEGE\\\\SEMESTER 5\\\\EDI_DeepFake_ImageDetection\")\n",
    "            pbar.update(1)  # Update progress bar\n"
   ]
  },
  {
   "cell_type": "code",
   "execution_count": null,
   "id": "3dd1c124",
   "metadata": {},
   "outputs": [],
   "source": []
  }
 ],
 "metadata": {
  "kernelspec": {
   "display_name": "Python 3 (ipykernel)",
   "language": "python",
   "name": "python3"
  },
  "language_info": {
   "codemirror_mode": {
    "name": "ipython",
    "version": 3
   },
   "file_extension": ".py",
   "mimetype": "text/x-python",
   "name": "python",
   "nbconvert_exporter": "python",
   "pygments_lexer": "ipython3",
   "version": "3.10.9"
  }
 },
 "nbformat": 4,
 "nbformat_minor": 5
}
